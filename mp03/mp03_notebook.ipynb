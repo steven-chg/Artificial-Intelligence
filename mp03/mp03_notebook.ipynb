{
 "cells": [
  {
   "cell_type": "markdown",
   "metadata": {},
   "source": [
    "# CS440/ECE448 Spring 2024\n",
    "# MP03: Hidden Markov Model"
   ]
  },
  {
   "cell_type": "markdown",
   "metadata": {},
   "source": [
    "The first thing you need to do is to download this file: <a href=\"mp03.zip\">mp03.zip</a>.  It has the following content:\n",
    "\n",
    "* `submitted.py`: Your homework. Edit, and then submit to <a href=\"https://www.gradescope.com/courses/701752\">Gradescope</a>.\n",
    "* `mp03_notebook.ipynb`: This is a <a href=\"https://anaconda.org/anaconda/jupyter\">Jupyter</a> notebook to help you debug.  You can completely ignore it if you want, although you might find that it gives you useful instructions.\n",
    "* `grade.py`: Once your homework seems to be working, you can test it by typing `python grade.py`, which will run the tests in `tests/tests_visible.py`.\n",
    "* `tests/test_visible.py`: This file contains about half of the <a href=\"https://docs.python.org/3/library/unittest.html\">unit tests</a> that Gradescope will run in order to grade your homework.  If you can get a perfect score on these tests, then you should also get a perfect score on the additional hidden tests that Gradescope uses.\n",
    "* `data`: This directory contains the data.\n",
    "* `util.py`: This is an auxiliary program that you can use to read the data, evaluate the accuracy, etc."
   ]
  },
  {
   "cell_type": "markdown",
   "metadata": {},
   "source": [
    "This file (`mp08_notebook.ipynb`) will walk you through the whole MP, giving you instructions and debugging tips as you go.\n",
    "\n",
    "### Table of Contents\n",
    "\n",
    "1. <a href=\"#section1\">Reading the data</a>\n",
    "1. <a href=\"#section2\">Tagset</a>\n",
    "1. <a href=\"#section3\">Taggers</a>\n",
    "1. <a href=\"#section4\">Baseline Tagger</a>\n",
    "1. <a href=\"#section5\">Viterbi: HMM Tagger</a>\n",
    "1. <a href=\"#section6\">Viterbi\\_ec: Improveing HMM Tagger</a>\n",
    "1. <a href=\"#grade\">Grade Your Homework</a>\n"
   ]
  },
  {
   "cell_type": "markdown",
   "metadata": {},
   "source": [
    "For this MP, you will implement part of speech (POS) tagging\n",
    "using an HMM model.    Make sure you understand the algorithm\n",
    "before you start writing code, e.g. look at the\n",
    "lectures on Hidden Markov Models and\n",
    "<a href=\"https://web.stanford.edu/~jurafsky/slp3/8.pdf\">\n",
    "Chapter 8 </a> of Jurafsky and Martin.\n"
   ]
  },
  {
   "cell_type": "markdown",
   "metadata": {},
   "source": [
    "<a id='section1'></a>\n",
    "## Reading the data\n",
    "The dataset consists of thousands of sentences with ground-truth POS tags. \n",
    "\n",
    "The provided load_dataset function will read in the data as a nested list with the outer dimension representing each sentence and inner dimensin representing each tagged word. The following cells will help you go through the representation of the data.\n",
    "\n",
    "The provided code converts all words to lowercase. It also adds a START and END tag for each sentence when it loads the sentence. These tags are just for standardization. They will not be considered in accuracy computation."
   ]
  },
  {
   "cell_type": "code",
   "execution_count": 2,
   "metadata": {},
   "outputs": [],
   "source": [
    "import utils\n",
    "train_set = utils.load_dataset('data/brown-training.txt')\n",
    "dev_set = utils.load_dataset('data/brown-test.txt')"
   ]
  },
  {
   "cell_type": "code",
   "execution_count": 3,
   "metadata": {},
   "outputs": [
    {
     "name": "stdout",
     "output_type": "stream",
     "text": [
      "training set has 35655 sentences\n",
      "dev set has 9912 sentences\n",
      "The first sentence of training set has 27 words\n",
      "The 10th word of the first sentence in the training set is \"investigation\" with ground-truth tag \"NOUN\"\n"
     ]
    }
   ],
   "source": [
    "print('training set has {} sentences'.format(len(train_set)))\n",
    "print('dev set has {} sentences'.format(len(dev_set)))\n",
    "print('The first sentence of training set has {} words'.format(len(train_set[0])))\n",
    "print('The 10th word of the first sentence in the training set is \"{}\" with ground-truth tag \"{}\"'.format(train_set[0][9][0], train_set[0][9][1]))"
   ]
  },
  {
   "cell_type": "code",
   "execution_count": 4,
   "metadata": {},
   "outputs": [
    {
     "name": "stdout",
     "output_type": "stream",
     "text": [
      "Here is an sample sentence from the training set:\n",
      " [('START', 'START'), ('the', 'DET'), ('fulton', 'NOUN'), ('county', 'NOUN'), ('grand', 'ADJ'), ('jury', 'NOUN'), ('said', 'VERB'), ('friday', 'NOUN'), ('an', 'DET'), ('investigation', 'NOUN'), ('of', 'IN'), (\"atlanta's\", 'NOUN'), ('recent', 'ADJ'), ('primary', 'NOUN'), ('election', 'NOUN'), ('produced', 'VERB'), ('``', 'PUNCT'), ('no', 'DET'), ('evidence', 'NOUN'), (\"''\", 'PUNCT'), ('that', 'CONJ'), ('any', 'DET'), ('irregularities', 'NOUN'), ('took', 'VERB'), ('place', 'NOUN'), ('.', 'PERIOD'), ('END', 'END')]\n"
     ]
    }
   ],
   "source": [
    "print('Here is an sample sentence from the training set:\\n', train_set[0])"
   ]
  },
  {
   "cell_type": "markdown",
   "metadata": {},
   "source": [
    "<a id='section2'></a>\n",
    "<h2>Tagset</h2>\n",
    "\n",
    "<p>\n",
    "  The following is an example set of 16 part of speech tags.  \n",
    "      This is the tagset used in the provided \n",
    "Brown corpus. <b><font color=red> But remember you should not hardcode anything regarding this tagset because we will test \n",
    "your code on two other datasets with a different tagset</font></b>.\n",
    "</p>\n",
    "\n",
    "<ul>\n",
    "\n",
    "<li> ADJ adjective\n",
    "<li> ADV adverb\n",
    "<li> IN preposition\n",
    "<li> PART particle (e.g. after verb, looks like a preposition)\n",
    "\n",
    "<li> PRON pronoun\n",
    "<li> NUM number\n",
    "<li> CONJ conjunction\n",
    "<li> UH filler, exclamation\n",
    "\n",
    "<li> TO infinitive\n",
    "<li> VERB verb\n",
    "<li> MODAL modal verb\n",
    "<li> DET determiner\n",
    "\n",
    "<li> NOUN noun\n",
    "<li> PERIOD end of sentence punctuation\n",
    "<li> PUNCT  other punctuation\n",
    "<li> X miscellaneous hard-to-classify items\n",
    "</ul>"
   ]
  },
  {
   "cell_type": "markdown",
   "metadata": {},
   "source": [
    "<a id='section3'></a>\n",
    "<h2>Taggers</h2>\n",
    "\n",
    "You will need to write two main types of tagging functions:\n",
    "\n",
    "<ul>\n",
    "<li> Baseline tagger\n",
    "<li> Viterbi: HMM tagger\n",
    "</ul>\n",
    "\n",
    "For implementation of this MP, You may use numpy (though it's not needed). <b><font color=red>You may not use other non-standard modules (including nltk)</font></b>.\n",
    "\n",
    "You should use the provided training data to train the parameters of your model and the test sets to test its accuracy. \n",
    "\n",
    "In addition, your code will be tested on two hidden datasets that are not available to you, which has different number of tags and words from the ones provided to you. So do NOT hardcode any of your important computations, such as initial probabilities, transition probabilities, emission probabilities, number or name of tags, and etc. We will inspect code for hardcoding computations/values and will penalize such implementations."
   ]
  },
  {
   "cell_type": "markdown",
   "metadata": {},
   "source": [
    "<a id='section4'></a>\n",
    "<h2>Baseline Tagger</h2>\n",
    "\n",
    "The Baseline tagger considers each word independently, ignoring previous words and tags. For each word w, it counts how many times w occurs with each tag in the training data. When processing the test data, it consistently gives w the tag that was seen most often. For unseen words, it should guess the tag that's seen the most often in training dataset.\n",
    "\n",
    "#### For all seen word w:\n",
    "$$Tag_{w}= \\operatorname*{argmax}_{t \\in T} (\\text{# times tag t is matched to word w}) $$\n",
    "#### For all unseen word w':\n",
    "$$Tag_{w'}= \\operatorname*{argmax}_{t \\in T} (\\text{# times tag t appears in the training set}) $$\n",
    "\n",
    "A correctly working baseline tagger should get about 93.9% accuracy on the Brown corpus development set, with over 90% accuracy on multitag words and over 69% on unseen words."
   ]
  },
  {
   "cell_type": "code",
   "execution_count": 5,
   "metadata": {},
   "outputs": [
    {
     "name": "stdout",
     "output_type": "stream",
     "text": [
      "\n",
      "This is the module you'll submit to the autograder.\n",
      "\n",
      "There are several function definitions, here, that raise RuntimeErrors.  You should replace\n",
      "each \"raise RuntimeError\" line with a line that performs the function specified in the\n",
      "function's docstring.\n",
      "\n",
      "For implementation of this MP, You may use numpy (though it's not needed). You may not \n",
      "use other non-standard modules (including nltk). Some modules that might be helpful are \n",
      "already imported for you.\n",
      "\n"
     ]
    }
   ],
   "source": [
    "import submitted\n",
    "import importlib\n",
    "importlib.reload(submitted)\n",
    "print(submitted.__doc__)"
   ]
  },
  {
   "cell_type": "code",
   "execution_count": 6,
   "metadata": {},
   "outputs": [
    {
     "name": "stdout",
     "output_type": "stream",
     "text": [
      "Help on function baseline in module submitted:\n",
      "\n",
      "baseline(test, train)\n",
      "    Implementation for the baseline tagger.\n",
      "    input:  test data (list of sentences, no tags on the words, use utils.strip_tags to remove tags from data)\n",
      "            training data (list of sentences, with tags on the words)\n",
      "    output: list of sentences, each sentence is a list of (word,tag) pairs.\n",
      "            E.g., [[(word1, tag1), (word2, tag2)], [(word3, tag3), (word4, tag4)]]\n",
      "\n"
     ]
    }
   ],
   "source": [
    "help(submitted.baseline)"
   ]
  },
  {
   "cell_type": "code",
   "execution_count": 10,
   "metadata": {},
   "outputs": [
    {
     "name": "stdout",
     "output_type": "stream",
     "text": [
      "time spent: 1.6059 sec\n",
      "accuracy: 0.9387\n",
      "multi-tag accuracy: 0.9019\n",
      "unseen word accuracy: 0.6782\n"
     ]
    }
   ],
   "source": [
    "import time\n",
    "importlib.reload(submitted)\n",
    "train_set = utils.load_dataset('data/brown-training.txt')\n",
    "dev_set = utils.load_dataset('data/brown-test.txt')\n",
    "start_time = time.time()\n",
    "predicted = submitted.baseline(utils.strip_tags(dev_set), train_set)\n",
    "time_spend = time.time() - start_time\n",
    "accuracy, _, _ = utils.evaluate_accuracies(predicted, dev_set)\n",
    "multi_tag_accuracy, unseen_words_accuracy, = utils.specialword_accuracies(train_set, predicted, dev_set)\n",
    "\n",
    "print(\"time spent: {0:.4f} sec\".format(time_spend))\n",
    "print(\"accuracy: {0:.4f}\".format(accuracy))\n",
    "print(\"multi-tag accuracy: {0:.4f}\".format(multi_tag_accuracy))\n",
    "print(\"unseen word accuracy: {0:.4f}\".format(unseen_words_accuracy))"
   ]
  },
  {
   "cell_type": "markdown",
   "metadata": {},
   "source": [
    "#### <a id='section5'></a>\n",
    "<h2>Viterbi: HMM Tagger</h2>\n",
    "<p>\n",
    "The Viterbi tagger should implement the HMM trellis (Viterbi) decoding algoirthm\n",
    "as seen in lecture or Jurafsky and Martin.   That is, the probability of each\n",
    "tag depends only on the previous tag, and the probability of each word depends\n",
    "only on the corresponding tag. This model will need to estimate\n",
    "three sets of probabilities:\n",
    "\n",
    "<ul>\n",
    "<li>  Initial probabilities (How often does each tag occur at the start of\n",
    "a sentence?)\n",
    "<li>  Transition probabilities (How often does tag \\(t_b\\)  follow tag\n",
    "\\(t_a\\)?)\n",
    "<li>  Emission probabilities (How often does tag t yield word w?)\n",
    "</ul>\n",
    "\n",
    "<p>\n",
    "You can assume that all sentences will begin with a START token, whose tag is START.\n",
    "<b><font color=red>So your initial probabilities will have a very restricted form, whether you choose to\n",
    "handcode appropriate numbers or learn them from the data.</font></b> The initial probabilities shown\n",
    "in the\n",
    "textbook/texture examples will be handled by\n",
    "transition probabilities from the START token to\n",
    "the first real word.\n",
    "\n",
    "<p>\n",
    "It's helpful to think of your processing in five steps:\n",
    "\n",
    "<ul>\n",
    "<li> Count occurrences of tags, tag pairs, tag/word pairs.\n",
    "<li> Compute smoothed probabilities\n",
    "<li> Take the log of each probability\n",
    "<li> Construct the trellis.   Notice that\n",
    "for each tag/time pair, you must store not only\n",
    "the probability of the best path but also a pointer to the\n",
    "previous tag/time pair in that path.\n",
    "<li> Return the best path through the trellis.\n",
    "</ul>\n",
    "\n",
    "<p>\n",
    "You'll need to use smoothing to get good performance.\n",
    "Make sure that your code for computing transition and emission probabilities\n",
    "never returns zero.\n",
    "Laplace smoothing is the method we use to smooth zero probability cases for calculating\n",
    "initial probabilities, transition probabilities, and emission probabilities.\n",
    "<p>\n",
    "For example, to smooth the emission probabilities, consider each tag individually.\n",
    "For a fixed tag T, you need to ensure that \\(P_e(W|T)\\) produces a non-zero number\n",
    "no matter what word W you give it.\n",
    "You can use Laplace smoothing (as in MP 2) to fill in a probability for\n",
    "\"UNKNOWN\" which will be the return value for all words W that were not\n",
    "seen in the training data.\n",
    "For this initial implementation of Viterbi, use the same Laplace smoothing\n",
    "constant \\(\\alpha\\) for all tags.\n",
    "\n",
    "<p>\n",
    "This simple Viterbi will perform slightly worse than the baseline\n",
    "code for the Brown development dataset (somewhat over 93% accuracy).\n",
    "However you should notice that it's doing better on the multiple-tag\n",
    "words (e.g. over 93.5%). <b><font color=red> Please make sure to follow the description to\n",
    "implement your algorithm and do not try to do improvement in this part,\n",
    "as it might make your code fail some of our test cases. You will be asked\n",
    "to improve the algorithm in the next part.</font></b>"
   ]
  },
  {
   "cell_type": "code",
   "execution_count": 7,
   "metadata": {},
   "outputs": [
    {
     "name": "stdout",
     "output_type": "stream",
     "text": [
      "Help on function viterbi in module submitted:\n",
      "\n",
      "viterbi(train, test)\n",
      "    Implementation for the viterbi tagger.\n",
      "    input:  training data (list of sentences, with tags on the words)\n",
      "            test data (list of sentences, no tags on the words)\n",
      "    output: list of sentences with tags on the words\n",
      "            E.g., [[(word1, tag1), (word2, tag2)], [(word3, tag3), (word4, tag4)]]\n",
      "\n"
     ]
    }
   ],
   "source": [
    "help(submitted.viterbi)"
   ]
  },
  {
   "cell_type": "code",
   "execution_count": 40,
   "metadata": {},
   "outputs": [
    {
     "name": "stdout",
     "output_type": "stream",
     "text": [
      "{('START', ' '): -1.4022983670483645e-05, ('DET', 'START'): -1.5159736942688622, ('PUNCT', 'START'): -2.563800383004904, ('PRON', 'START'): -1.6642149501208083, ('NOUN', 'START'): -1.988470373036745, ('ADV', 'START'): -2.403660031036904, ('IN', 'START'): -2.4756821486944314, ('VERB', 'START'): -3.1577227086589432, ('NUM', 'START'): -4.077481365732732, ('PERIOD', 'START'): -4.438063258345669, ('CONJ', 'START'): -2.4448246208165356, ('ADJ', 'START'): -3.3610345413447336, ('MODAL', 'START'): -5.9988804837736955, ('TO', 'START'): -5.3668877263670804, ('PART', 'START'): -7.2832099182368975, ('UH', 'START'): -6.212185586087617, ('X', 'START'): -9.565592303913425, ('NOUN', 'DET'): -0.49042817509264447, ('VERB', 'DET'): -2.786941287852796, ('DET', 'DET'): -4.207850318040758, ('ADJ', 'DET'): -1.4464807254808971, ('PRON', 'DET'): -4.386416937283605, ('NUM', 'DET'): -4.624704411330749, ('ADV', 'DET'): -3.9912540652932242, ('MODAL', 'DET'): -5.355233577204534, ('IN', 'DET'): -4.407753553756875, ('PUNCT', 'DET'): -4.957456146043771, ('CONJ', 'DET'): -6.7697333641691495, ('PERIOD', 'DET'): -4.735450528689629, ('TO', 'DET'): -7.244724534925924, ('END', 'DET'): -8.639051067743079, ('PART', 'DET'): -8.359466205523917, ('UH', 'DET'): -10.463600359794125, ('NOUN', 'NOUN'): -1.931372223012394, ('ADJ', 'NOUN'): -4.360232938983998, ('VERB', 'NOUN'): -1.9584193970057484, ('DET', 'NOUN'): -4.104337013962816, ('IN', 'NOUN'): -1.4785279926872874, ('PUNCT', 'NOUN'): -3.612969658312196, ('PERIOD', 'NOUN'): -1.3460852520726179, ('ADV', 'NOUN'): -3.6697594014000523, ('CONJ', 'NOUN'): -2.5692089773861198, ('TO', 'NOUN'): -4.2310352791285615, ('MODAL', 'NOUN'): -3.9553097314116417, ('NUM', 'NOUN'): -4.86150753890138, ('PRON', 'NOUN'): -3.867588782264233, ('END', 'NOUN'): -5.757499745894584, ('PART', 'NOUN'): -6.293683305250656, ('UH', 'NOUN'): -10.163280466576571, ('X', 'NOUN'): -10.53100524670189, ('NOUN', 'ADJ'): -0.43363029697067734, ('PUNCT', 'ADJ'): -4.40003910733983, ('IN', 'ADJ'): -2.725724892984673, ('CONJ', 'ADJ'): -2.7783216852756674, ('TO', 'ADJ'): -4.025683552816315, ('ADJ', 'ADJ'): -2.853051807152762, ('PERIOD', 'ADJ'): -2.3985591071297057, ('DET', 'ADJ'): -5.033970789251119, ('ADV', 'ADJ'): -4.6241483757739985, ('VERB', 'ADJ'): -4.129687816239241, ('NUM', 'ADJ'): -4.971891621723689, ('END', 'ADJ'): -7.759642591703148, ('PRON', 'ADJ'): -5.459282193731213, ('MODAL', 'ADJ'): -6.706492677111796, ('PART', 'ADJ'): -8.199009251486993, ('X', 'ADJ'): -10.467692792805359, ('NOUN', 'VERB'): -2.29950665722815, ('PUNCT', 'VERB'): -4.519347923725767, ('IN', 'VERB'): -1.8839579074500963, ('ADJ', 'VERB'): -2.7498074899785765, ('DET', 'VERB'): -1.7193513485504848, ('VERB', 'VERB'): -1.9927961404094154, ('PERIOD', 'VERB'): -2.5773249269004266, ('PRON', 'VERB'): -2.7912610441454304, ('CONJ', 'VERB'): -3.129664655290349, ('ADV', 'VERB'): -2.2899412845514626, ('END', 'VERB'): -7.289748939995655, ('TO', 'VERB'): -3.3032284279025967, ('NUM', 'VERB'): -4.660227441735766, ('PART', 'VERB'): -3.60524969437428, ('MODAL', 'VERB'): -7.076443837681733, ('UH', 'VERB'): -9.308154591089123, ('X', 'VERB'): -11.153981281587452, ('NOUN', 'IN'): -1.2844911138701833, ('DET', 'IN'): -0.7166138714016069, ('ADJ', 'IN'): -2.408726108890635, ('VERB', 'IN'): -3.2375460217001364, ('PRON', 'IN'): -3.2516995856864774, ('NUM', 'IN'): -3.447517546199524, ('IN', 'IN'): -4.502512987978423, ('ADV', 'IN'): -4.354052103128314, ('CONJ', 'IN'): -5.76990526648975, ('PERIOD', 'IN'): -5.632434275861147, ('PUNCT', 'IN'): -5.524691279464893, ('TO', 'IN'): -8.637383204520061, ('MODAL', 'IN'): -10.32378215809029, ('PART', 'IN'): -8.79772585459524, ('END', 'IN'): -9.53532479772602, ('UH', 'IN'): -10.834607781856281, ('DET', 'PUNCT'): -2.368797470184572, ('CONJ', 'PUNCT'): -2.7915241070194394, ('VERB', 'PUNCT'): -2.415219307035821, ('IN', 'PUNCT'): -3.069810557581477, ('NOUN', 'PUNCT'): -2.0604035417029625, ('ADV', 'PUNCT'): -2.863262810845356, ('PERIOD', 'PUNCT'): -1.141390073310892, ('TO', 'PUNCT'): -5.318197187097565, ('PRON', 'PUNCT'): -2.269932230035803, ('ADJ', 'PUNCT'): -3.011682815963629, ('NUM', 'PUNCT'): -5.1319463521637205, ('MODAL', 'PUNCT'): -5.118959156636909, ('END', 'PUNCT'): -4.669322830215608, ('PUNCT', 'PUNCT'): -4.694324132421024, ('PART', 'PUNCT'): -7.026890057627006, ('UH', 'PUNCT'): -4.1245133536340175, ('X', 'PUNCT'): -7.597434916094619, ('DET', 'CONJ'): -1.4837994026914902, ('NOUN', 'CONJ'): -1.6011727350790426, ('ADJ', 'CONJ'): -2.3935253320675915, ('ADV', 'CONJ'): -2.6858071603851656, ('VERB', 'CONJ'): -1.999125412403562, ('CONJ', 'CONJ'): -3.69676382197322, ('IN', 'CONJ'): -3.0536200753568545, ('PRON', 'CONJ'): -1.876619047261177, ('PUNCT', 'CONJ'): -4.72998645318546, ('PERIOD', 'CONJ'): -4.358264489275813, ('NUM', 'CONJ'): -4.187804627723447, ('MODAL', 'CONJ'): -5.109004987848322, ('TO', 'CONJ'): -4.929296835565884, ('PART', 'CONJ'): -6.722927212729751, ('UH', 'CONJ'): -8.503513381359681, ('X', 'CONJ'): -10.112951293793781, ('END', 'PERIOD'): -0.8105776128109302, ('DET', 'PERIOD'): -2.688637393581289, ('PUNCT', 'PERIOD'): -4.365466359532476, ('IN', 'PERIOD'): -3.179689237264292, ('CONJ', 'PERIOD'): -2.3126828840372196, ('NOUN', 'PERIOD'): -2.6021504599696663, ('PERIOD', 'PERIOD'): -2.9075874772703787, ('NUM', 'PERIOD'): -4.388841407544126, ('ADJ', 'PERIOD'): -3.6586015427437317, ('PRON', 'PERIOD'): -3.0565500024073837, ('VERB', 'PERIOD'): -2.671321749626213, ('ADV', 'PERIOD'): -3.1827628527161416, ('MODAL', 'PERIOD'): -5.386782822997052, ('TO', 'PERIOD'): -5.590246816364816, ('PART', 'PERIOD'): -7.644370550060362, ('UH', 'PERIOD'): -7.307898313439149, ('X', 'PERIOD'): -9.563963390798301, ('VERB', 'ADV'): -1.4702095688521266, ('DET', 'ADV'): -2.5325322487306425, ('ADJ', 'ADV'): -1.9721685272490637, ('PERIOD', 'ADV'): -1.8792706221118785, ('CONJ', 'ADV'): -2.946795200534403, ('IN', 'ADV'): -2.230282786605727, ('PUNCT', 'ADV'): -4.062497210526096, ('MODAL', 'ADV'): -4.939134269802091, ('ADV', 'ADV'): -2.336073540607393, ('TO', 'ADV'): -4.119116104525603, ('NOUN', 'ADV'): -3.497771185074835, ('PRON', 'ADV'): -2.929455291680893, ('PART', 'ADV'): -5.527722859366271, ('NUM', 'ADV'): -4.315481088276543, ('END', 'ADV'): -7.932864540685409, ('UH', 'ADV'): -9.54230245311951, ('VERB', 'TO'): -0.013235126883988105, ('ADV', 'TO'): -5.781501296613436, ('PUNCT', 'TO'): -5.270675672847445, ('ADJ', 'TO'): -7.426657291649615, ('PERIOD', 'TO'): -5.974404962737927, ('PRON', 'TO'): -7.627327987111767, ('NOUN', 'TO'): -7.627327987111767, ('IN', 'TO'): -7.878642415392672, ('DET', 'TO'): -7.878642415392672, ('VERB', 'PRON'): -0.523365801607468, ('PUNCT', 'PRON'): -4.134677832048749, ('DET', 'PRON'): -3.7343917149528445, ('IN', 'PRON'): -3.0507581860166613, ('MODAL', 'PRON'): -2.3075441798033265, ('TO', 'PRON'): -4.477001246453231, ('ADV', 'PRON'): -2.8140773234405696, ('PRON', 'PRON'): -4.412382497468531, ('PERIOD', 'PRON'): -2.527795598260153, ('ADJ', 'PRON'): -3.987453021134525, ('CONJ', 'PRON'): -3.7935284399608187, ('PART', 'PRON'): -5.0059620822634345, ('NUM', 'PRON'): -6.581135400723438, ('NOUN', 'PRON'): -4.80886281916888, ('END', 'PRON'): -9.189102143268666, ('UH', 'PRON'): -10.036400003655869, ('NOUN', 'NUM'): -0.9487771120209741, ('IN', 'NUM'): -2.052903053658873, ('ADJ', 'NUM'): -2.7893122758371383, ('DET', 'NUM'): -4.256257247384848, ('PERIOD', 'NUM'): -1.385622242801769, ('CONJ', 'NUM'): -3.170907752595149, ('END', 'NUM'): -5.346995479622052, ('NUM', 'NUM'): -3.8627207101419576, ('VERB', 'NUM'): -3.2034750812576935, ('TO', 'NUM'): -5.897826438001742, ('PRON', 'NUM'): -4.73340093076406, ('ADV', 'NUM'): -3.7661991431513355, ('MODAL', 'NUM'): -5.555540231515109, ('PUNCT', 'NUM'): -4.569290911034043, ('PART', 'NUM'): -6.654152520183219, ('VERB', 'MODAL'): -0.23542300240873865, ('ADV', 'MODAL'): -2.016572090044373, ('NOUN', 'MODAL'): -5.7402175020015225, ('IN', 'MODAL'): -5.267858159063328, ('PRON', 'MODAL'): -3.682230895322946, ('PUNCT', 'MODAL'): -5.567374689162112, ('TO', 'MODAL'): -5.095388898712385, ('ADJ', 'MODAL'): -6.575015199624495, ('PERIOD', 'MODAL'): -4.268091705031851, ('DET', 'MODAL'): -4.321437685737144, ('CONJ', 'MODAL'): -5.667458147719095, ('NUM', 'MODAL'): -7.145560058092108, ('UH', 'MODAL'): -8.611897126885534, ('IN', 'PART'): -1.1044101880082249, ('DET', 'PART'): -1.8642347542159563, ('PERIOD', 'PART'): -1.6794588541701838, ('CONJ', 'PART'): -2.470226017784575, ('ADV', 'PART'): -2.4607322755923238, ('NOUN', 'PART'): -3.3498368671623218, ('MODAL', 'PART'): -6.516462001686644, ('PUNCT', 'PART'): -3.4982568722805953, ('NUM', 'PART'): -4.152183339687259, ('TO', 'PART'): -3.591347295346607, ('ADJ', 'PART'): -3.965597384106847, ('VERB', 'PART'): -4.319237424350425, ('END', 'PART'): -6.516462001686644, ('PRON', 'PART'): -4.680250769887756, ('PART', 'PART'): -5.547061444498541, ('PERIOD', 'UH'): -0.48667516353370754, ('PUNCT', 'UH'): -1.5766480896111095, ('CONJ', 'UH'): -5.0106352940962555, ('VERB', 'UH'): -4.222177933731985, ('ADV', 'UH'): -3.123565645063876, ('ADJ', 'UH'): -5.0106352940962555, ('PRON', 'UH'): -3.78685986247414, ('NOUN', 'UH'): -3.575550768806933, ('UH', 'UH'): -3.78685986247414, ('IN', 'UH'): -3.912023005428146, ('DET', 'UH'): -4.422848629194137, ('VERB', 'X'): -3.3105430133940246, ('IN', 'X'): -3.821368637160015, ('DET', 'X'): -3.3105430133940246, ('X', 'X'): -0.4540728071735412, ('PERIOD', 'X'): -2.211930724725915, ('ADJ', 'X'): -3.821368637160015, ('PRON', 'X'): -3.3105430133940246, ('PUNCT', 'X'): -2.9740707767728116, ('END', 'X'): -3.821368637160015, ('NOUN', 'X'): -3.821368637160015}\n"
     ]
    },
    {
     "ename": "TypeError",
     "evalue": "object of type 'NoneType' has no len()",
     "output_type": "error",
     "traceback": [
      "\u001b[0;31m---------------------------------------------------------------------------\u001b[0m",
      "\u001b[0;31mTypeError\u001b[0m                                 Traceback (most recent call last)",
      "Cell \u001b[0;32mIn[40], line 8\u001b[0m\n\u001b[1;32m      6\u001b[0m predicted \u001b[38;5;241m=\u001b[39m submitted\u001b[38;5;241m.\u001b[39mviterbi(utils\u001b[38;5;241m.\u001b[39mstrip_tags(dev_set), train_set)\n\u001b[1;32m      7\u001b[0m time_spend \u001b[38;5;241m=\u001b[39m time\u001b[38;5;241m.\u001b[39mtime() \u001b[38;5;241m-\u001b[39m start_time\n\u001b[0;32m----> 8\u001b[0m accuracy, _, _ \u001b[38;5;241m=\u001b[39m \u001b[43mutils\u001b[49m\u001b[38;5;241;43m.\u001b[39;49m\u001b[43mevaluate_accuracies\u001b[49m\u001b[43m(\u001b[49m\u001b[43mpredicted\u001b[49m\u001b[43m,\u001b[49m\u001b[43m \u001b[49m\u001b[43mdev_set\u001b[49m\u001b[43m)\u001b[49m\n\u001b[1;32m      9\u001b[0m multi_tag_accuracy, unseen_words_accuracy, \u001b[38;5;241m=\u001b[39m utils\u001b[38;5;241m.\u001b[39mspecialword_accuracies(train_set, predicted, dev_set)\n\u001b[1;32m     11\u001b[0m \u001b[38;5;28mprint\u001b[39m(\u001b[38;5;124m\"\u001b[39m\u001b[38;5;124mtime spent: \u001b[39m\u001b[38;5;132;01m{0:.4f}\u001b[39;00m\u001b[38;5;124m sec\u001b[39m\u001b[38;5;124m\"\u001b[39m\u001b[38;5;241m.\u001b[39mformat(time_spend))\n",
      "File \u001b[0;32m~/Desktop/ECE 448:CS 440/ECE-448-Artificial-Intelligence/mp03/utils.py:13\u001b[0m, in \u001b[0;36mevaluate_accuracies\u001b[0;34m(predicted_sentences, tag_sentences)\u001b[0m\n\u001b[1;32m      7\u001b[0m \u001b[38;5;28;01mdef\u001b[39;00m \u001b[38;5;21mevaluate_accuracies\u001b[39m(predicted_sentences, tag_sentences):\n\u001b[1;32m      8\u001b[0m \u001b[38;5;250m    \u001b[39m\u001b[38;5;124;03m\"\"\"\u001b[39;00m\n\u001b[1;32m      9\u001b[0m \u001b[38;5;124;03m    :param predicted_sentences:\u001b[39;00m\n\u001b[1;32m     10\u001b[0m \u001b[38;5;124;03m    :param tag_sentences:\u001b[39;00m\n\u001b[1;32m     11\u001b[0m \u001b[38;5;124;03m    :return: (Accuracy, correct word-tag counter, wrong word-tag counter)\u001b[39;00m\n\u001b[1;32m     12\u001b[0m \u001b[38;5;124;03m    \"\"\"\u001b[39;00m\n\u001b[0;32m---> 13\u001b[0m     \u001b[38;5;28;01massert\u001b[39;00m \u001b[38;5;28;43mlen\u001b[39;49m\u001b[43m(\u001b[49m\u001b[43mpredicted_sentences\u001b[49m\u001b[43m)\u001b[49m \u001b[38;5;241m==\u001b[39m \u001b[38;5;28mlen\u001b[39m(tag_sentences), \u001b[38;5;124m\"\u001b[39m\u001b[38;5;124mThe number of predicted sentence \u001b[39m\u001b[38;5;132;01m{}\u001b[39;00m\u001b[38;5;124m does not match the true number \u001b[39m\u001b[38;5;132;01m{}\u001b[39;00m\u001b[38;5;124m\"\u001b[39m\u001b[38;5;241m.\u001b[39mformat(\u001b[38;5;28mlen\u001b[39m(predicted_sentences), \u001b[38;5;28mlen\u001b[39m(tag_sentences))\n\u001b[1;32m     15\u001b[0m     correct_wordtagcounter \u001b[38;5;241m=\u001b[39m {}\n\u001b[1;32m     16\u001b[0m     wrong_wordtagcounter \u001b[38;5;241m=\u001b[39m {}\n",
      "\u001b[0;31mTypeError\u001b[0m: object of type 'NoneType' has no len()"
     ]
    }
   ],
   "source": [
    "import time\n",
    "importlib.reload(submitted)\n",
    "train_set = utils.load_dataset('data/brown-training.txt')\n",
    "dev_set = utils.load_dataset('data/brown-test.txt')\n",
    "start_time = time.time()\n",
    "predicted = submitted.viterbi(utils.strip_tags(dev_set), train_set)\n",
    "time_spend = time.time() - start_time\n",
    "accuracy, _, _ = utils.evaluate_accuracies(predicted, dev_set)\n",
    "multi_tag_accuracy, unseen_words_accuracy, = utils.specialword_accuracies(train_set, predicted, dev_set)\n",
    "\n",
    "print(\"time spent: {0:.4f} sec\".format(time_spend))\n",
    "print(\"accuracy: {0:.4f}\".format(accuracy))\n",
    "print(\"multi-tag accuracy: {0:.4f}\".format(multi_tag_accuracy))\n",
    "print(\"unseen word accuracy: {0:.4f}\".format(unseen_words_accuracy))"
   ]
  },
  {
   "cell_type": "markdown",
   "metadata": {},
   "source": [
    "<a id='section6'></a>\n",
    "<h2>Viterbi_ec: Improving HMM Tagger (Optional, for Extra Credit only)</h2>\n",
    "<p>\n",
    "The previous Vitebi tagger fails to beat the baseline because it does very poorly on\n",
    "unseen words.   It's assuming that all tags have similar probability for these\n",
    "words, but we know that a new word is much more likely to have\n",
    "the tag NOUN than (say) CONJ.\n",
    "For this part, you'll improve your emission smoothing to match the real\n",
    "probabilities for unseen words.\n",
    "\n",
    "<p>\n",
    "Words that appear zero times in the training data (out-of-vocabulary or OOV words) and words that appear once in the training \n",
    "data (<a href=\"https://en.wikipedia.org/wiki/Hapax_legomenon\">hapax</a> words) tend to have similar parts of speech (POS).  \n",
    "For this reason, instead of assuming that OOV  words are uniformly distributed across all POS, we can get a much better\n",
    "estimate of their distribution by measuring the distribution of hapax words.\n",
    "Extract these words from the training data and calculate the probability of\n",
    "each tag on them.   When you do your Laplace smoothing of the emission probabilities\n",
    "for tag T, scale the Laplace smoothing constant by P(T|hapax), i.e., the probability that tag T\n",
    "occurs given that the word was hapax. Remember that Laplace smoothing acts by reducing probability \n",
    "mass for high-frequency words, and re-assigning some of that probability mass to low-frequency words. A large smoothing \n",
    "constant can end up skewing probability masses a lot, so experiment with small orders of magnitude for this hyperparameter. \n",
    "<p>\n",
    "This optimized version of the Viterbi code should have a significantly\n",
    "better unseen word accuracy on the Brown development dataset,\n",
    "e.g. over 66.5%.  It also beat the baseline on overall accuracy (e.g.\n",
    "95.5%).\n",
    "You should write your optimized version of Viterbi under the viterbi_ec function in\n",
    "submitted.py.\n",
    "<p>\n",
    "The hapax word tag probabilities may be different from one dataset to another, \n",
    "so your <tt>viterbi_ec</tt> method should compute them dynamically from its training data each\n",
    "time it runs.\n",
    "<p>\n",
    "  Hints\n",
    "\n",
    "<ul>\n",
    "    <li> You should start with the original implementation of your viterbi algorithm in the \n",
    "        previous part. As long as you understand what you need to do, the change in implementation\n",
    "        should not be substantial.\n",
    "    <li> Tag 'X' rarely occurs in the dataset.  Setting a high\n",
    "       value for the Laplace smoothing constant may overly smooth the emission probabilities\n",
    "      and break your statistical computations.  A small value for the\n",
    "      Laplace smoothing constant, e.g. 1e-5, may help.\n",
    "    <li> It's not advisable to use global variables in your implementation since\n",
    "      gradescope runs a number of different tests within the same python environment.\n",
    "      Global values set during one test will carry over to subsequent tests.\n",
    "</ul>\n"
   ]
  },
  {
   "cell_type": "code",
   "execution_count": 9,
   "metadata": {},
   "outputs": [
    {
     "name": "stdout",
     "output_type": "stream",
     "text": [
      "Help on function viterbi_ec in module submitted:\n",
      "\n",
      "viterbi_ec(train, test)\n",
      "    Implementation for the improved viterbi tagger.\n",
      "    input:  training data (list of sentences, with tags on the words). E.g.,  [[(word1, tag1), (word2, tag2)], [(word3, tag3), (word4, tag4)]]\n",
      "            test data (list of sentences, no tags on the words). E.g.,  [[word1, word2], [word3, word4]]\n",
      "    output: list of sentences, each sentence is a list of (word,tag) pairs.\n",
      "            E.g., [[(word1, tag1), (word2, tag2)], [(word3, tag3), (word4, tag4)]]\n",
      "\n"
     ]
    }
   ],
   "source": [
    "help(submitted.viterbi_ec)"
   ]
  },
  {
   "cell_type": "code",
   "execution_count": 10,
   "metadata": {},
   "outputs": [
    {
     "name": "stdout",
     "output_type": "stream",
     "text": [
      "time spent: 28.8134 sec\n",
      "accuracy: 0.9565\n",
      "multi-tag accuracy: 0.9418\n",
      "unseen word accuracy: 0.6550\n"
     ]
    }
   ],
   "source": [
    "import time\n",
    "importlib.reload(submitted)\n",
    "train_set = utils.load_dataset('data/brown-training.txt')\n",
    "dev_set = utils.load_dataset('data/brown-test.txt')\n",
    "start_time = time.time()\n",
    "predicted = submitted.viterbi_ec(utils.strip_tags(dev_set), train_set)\n",
    "time_spend = time.time() - start_time\n",
    "accuracy, _, _ = utils.evaluate_accuracies(predicted, dev_set)\n",
    "multi_tag_accuracy, unseen_words_accuracy, = utils.specialword_accuracies(train_set, predicted, dev_set)\n",
    "\n",
    "print(\"time spent: {0:.4f} sec\".format(time_spend))\n",
    "print(\"accuracy: {0:.4f}\".format(accuracy))\n",
    "print(\"multi-tag accuracy: {0:.4f}\".format(multi_tag_accuracy))\n",
    "print(\"unseen word accuracy: {0:.4f}\".format(unseen_words_accuracy))"
   ]
  },
  {
   "cell_type": "markdown",
   "metadata": {},
   "source": [
    "<a id='grade'></a>\n",
    "## Grade your homework"
   ]
  },
  {
   "cell_type": "markdown",
   "metadata": {},
   "source": [
    "If you've reached this point, and all of the above sections work, then you're ready to try grading your homework! Before you submit it to Gradescope, try grading it on your own machine. This will run some visible test cases.\n",
    "\n",
    "The exclamation point (!) tells python to run the following as a shell command. Obviously you don't need to run the code this way -- this usage is here just to remind you that you can also, if you wish, run this command in a terminal window.\n",
    "\n",
    "For the visible test, if you get full points for the main parts (baseline and viterbi), you should get 50 points in total for completing baseline and viterbi functions. If you get full points for improving the viterbi, you should get 5 points in total for completing viterbi_ec function. The remaining 55 points are from the hidden tests on gradescope (50 for main parts + 5 for extra credit)."
   ]
  },
  {
   "cell_type": "code",
   "execution_count": 12,
   "metadata": {},
   "outputs": [
    {
     "name": "stdout",
     "output_type": "stream",
     "text": [
      "{\r\n",
      "    \"tests\": [\r\n",
      "        {\r\n",
      "            \"name\": \"test baseline on Brown\",\r\n",
      "            \"score\": 20,\r\n",
      "            \"max_score\": 20,\r\n",
      "            \"output\": \"time spent: 1.1647 sec; accuracy: 0.9388; multi-tag accuracy: 0.9021; unseen word accuracy: 0.6782; \",\r\n",
      "            \"visibility\": \"visible\"\r\n",
      "        },\r\n",
      "        {\r\n",
      "            \"name\": \"test viterbi on brown\",\r\n",
      "            \"score\": 30.0,\r\n",
      "            \"max_score\": 30,\r\n",
      "            \"output\": \"start synthetic test; Synthetic test: passed!; time spent: 28.9366 sec; accuracy: 0.9372; multi-tag accuracy: 0.9373; unseen word accuracy: 0.2393; +10 points for accuracy, multi_tag_accuracy, unseen_words_accuracy above [0.87, 0.87, 0.17] respectively.; +10 points for accuracy, multi_tag_accuracy, unseen_words_accuracy above [0.9, 0.9, 0.19] respectively.; +10 points for accuracy, multi_tag_accuracy, unseen_words_accuracy above [0.925, 0.925, 0.2] respectively.; \",\r\n",
      "            \"visibility\": \"visible\"\r\n",
      "        },\r\n",
      "        {\r\n",
      "            \"name\": \"test viterbi_ec on Brown\",\r\n",
      "            \"score\": 5.0,\r\n",
      "            \"max_score\": 5,\r\n",
      "            \"output\": \"time spent: 29.1041 sec; accuracy: 0.9565; multi-tag accuracy: 0.9418; unseen word accuracy: 0.6550; +1.5 points for accuracy, multi_tag_accuracy, unseen_words_accuracy above [0.94, 0.92, 0.5] respectively.; +1.5 points for accuracy, multi_tag_accuracy, unseen_words_accuracy above [0.94, 0.92, 0.6] respectively.; +2 points for accuracy, multi_tag_accuracy, unseen_words_accuracy above [0.95, 0.932, 0.65] respectively.; \",\r\n",
      "            \"visibility\": \"visible\"\r\n",
      "        }\r\n",
      "    ],\r\n",
      "    \"leaderboard\": [],\r\n",
      "    \"visibility\": \"visible\",\r\n",
      "    \"execution_time\": \"63.74\",\r\n",
      "    \"score\": 55.0\r\n",
      "}\r\n"
     ]
    }
   ],
   "source": [
    "!python grade.py"
   ]
  },
  {
   "cell_type": "markdown",
   "metadata": {},
   "source": [
    "Now you should try uploading `submitted.py` to <a href=\"https://www.gradescope.com/courses/486387\">Gradescope</a>.  \n",
    "\n",
    "Gradescope will run the same visible tests that you just ran on your own machine, plus some additional hidden tests.  It's possible that your code passes all the visible tests, but fails the hidden tests.  If that happens, then it probably means that you hard-coded a number into your function definition, instead of using the input parameter that you were supposed to use.  Debug by running your function with a variety of different input parameters, and see if you can get it to respond correctly in all cases.\n",
    "\n",
    "Once your code works perfectly on Gradescope, with no errors, then you are done with the MP.  Congratulations!"
   ]
  },
  {
   "cell_type": "markdown",
   "metadata": {},
   "source": [
    "<a id='section3'></a>"
   ]
  },
  {
   "cell_type": "markdown",
   "metadata": {},
   "source": [
    "<a id='section4'></a>"
   ]
  },
  {
   "cell_type": "markdown",
   "metadata": {},
   "source": [
    "<a id='grade'></a>"
   ]
  }
 ],
 "metadata": {
  "kernelspec": {
   "display_name": "Python 3 (ipykernel)",
   "language": "python",
   "name": "python3"
  },
  "language_info": {
   "codemirror_mode": {
    "name": "ipython",
    "version": 3
   },
   "file_extension": ".py",
   "mimetype": "text/x-python",
   "name": "python",
   "nbconvert_exporter": "python",
   "pygments_lexer": "ipython3",
   "version": "3.9.6"
  },
  "vscode": {
   "interpreter": {
    "hash": "ad2bdc8ecc057115af97d19610ffacc2b4e99fae6737bb82f5d7fb13d2f2c186"
   }
  }
 },
 "nbformat": 4,
 "nbformat_minor": 4
}
